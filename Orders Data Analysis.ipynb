{
 "cells": [
  {
   "cell_type": "code",
   "execution_count": null,
   "id": "a90e209e",
   "metadata": {},
   "outputs": [],
   "source": [
    "#import llibraries\n",
    "#!pip install kaggle\n",
    "import kaggle"
   ]
  },
  {
   "cell_type": "code",
   "execution_count": null,
   "id": "6190613e",
   "metadata": {},
   "outputs": [],
   "source": [
    "#downloaded our dataset from kaggle\n",
    "!kaggle datasets download ankitbansal06/retail-orders -f orders.csv"
   ]
  },
  {
   "cell_type": "code",
   "execution_count": null,
   "id": "b2234506",
   "metadata": {},
   "outputs": [],
   "source": [
    "#extract file from zip file\n",
    "import zipfile \n",
    "zip_ref = zipfile.ZipFile('orders.csv.zip')\n",
    "zip_ref.extractall() # extract file to dir\n",
    "zip_ref.close() # close file"
   ]
  },
  {
   "cell_type": "code",
   "execution_count": null,
   "id": "56c8608b",
   "metadata": {},
   "outputs": [],
   "source": [
    "#read data from the file and handle null values\n",
    "import pandas as pd\n",
    "df = pd.read_csv('orders.csv', na_values = ['Not Available', 'unknown'])\n",
    "df['Ship Mode'].unique() \n",
    "#for column 'Ship Mode' we \n",
    "#list our unique values\n",
    "\n",
    "#Not Avaliable, unknown we consider as NULL"
   ]
  },
  {
   "cell_type": "code",
   "execution_count": null,
   "id": "42808f1b",
   "metadata": {},
   "outputs": [],
   "source": [
    "#rename columns names. Make them lower case and replace space with \n",
    "#underscore\n",
    "#df.rename(columns={'order id': 'order_id', 'city':'city'}) - first option\n",
    "df.columns = df.columns.str.lower()\n",
    "df.columns = df.columns.str.replace(' ','_')\n",
    "df.columns"
   ]
  },
  {
   "cell_type": "code",
   "execution_count": null,
   "id": "b5a5263e",
   "metadata": {},
   "outputs": [],
   "source": [
    "#create new column for discount amount\n",
    "df['discount'] = df['list_price']*df['discount_percent']*.01\n",
    "df.head(10)"
   ]
  },
  {
   "cell_type": "code",
   "execution_count": null,
   "id": "5e867e09",
   "metadata": {},
   "outputs": [],
   "source": [
    "#create new column for sale price\n",
    "df['sale_price'] = df['list_price'] - df['discount']\n",
    "df"
   ]
  },
  {
   "cell_type": "code",
   "execution_count": null,
   "id": "5566f6d8",
   "metadata": {},
   "outputs": [],
   "source": [
    "#create column and calculate profit\n",
    "df['profit'] = df['sale_price'] - df['cost_price']\n",
    "df"
   ]
  },
  {
   "cell_type": "code",
   "execution_count": null,
   "id": "c5fb8499",
   "metadata": {},
   "outputs": [],
   "source": [
    "#convert order date from object to datetime\n",
    "\n",
    "df['order_date'] = pd.to_datetime(df['order_date'], format = \"%Y-%m-%d\")\n",
    "df.dtypes"
   ]
  },
  {
   "cell_type": "code",
   "execution_count": null,
   "id": "3b5b62fb",
   "metadata": {},
   "outputs": [],
   "source": [
    "#drop cost price, list price and discount percent columns\n",
    "df.drop(columns=['list_price', 'discount_percent', 'cost_price'], inplace = True)\n",
    "#inplace = True - deletes columns from original table"
   ]
  },
  {
   "cell_type": "code",
   "execution_count": null,
   "id": "5684a268",
   "metadata": {},
   "outputs": [],
   "source": [
    "#load data into sql server\n",
    "import pandas as pd\n",
    "import sqlalchemy as sal\n",
    "engine = sal.create_engine('mssql://DESKTOP-VMAIN5R\\SQLEXPRESS02/master?driver=ODBC+DRIVER+17+FOR+SQL+SERVER')\n",
    "conn = engine.connect()"
   ]
  },
  {
   "cell_type": "code",
   "execution_count": null,
   "id": "0a792746",
   "metadata": {},
   "outputs": [],
   "source": [
    "#load data into sql server\n",
    "df.to_sql('df_orders', con=conn, index=False, if_exists = 'append')\n",
    "#if_exists = 'append' allows us to add data to existing table\n",
    "#we could also mention 'replace'"
   ]
  },
  {
   "cell_type": "code",
   "execution_count": null,
   "id": "2ed34e4a",
   "metadata": {},
   "outputs": [],
   "source": []
  }
 ],
 "metadata": {
  "kernelspec": {
   "display_name": "Python 3 (ipykernel)",
   "language": "python",
   "name": "python3"
  },
  "language_info": {
   "codemirror_mode": {
    "name": "ipython",
    "version": 3
   },
   "file_extension": ".py",
   "mimetype": "text/x-python",
   "name": "python",
   "nbconvert_exporter": "python",
   "pygments_lexer": "ipython3",
   "version": "3.10.9"
  }
 },
 "nbformat": 4,
 "nbformat_minor": 5
}
